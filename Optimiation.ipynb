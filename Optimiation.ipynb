{
 "cells": [
  {
   "cell_type": "code",
   "execution_count": 3,
   "metadata": {},
   "outputs": [
    {
     "name": "stderr",
     "output_type": "stream",
     "text": [
      "[nltk_data] Downloading package vader_lexicon to\n",
      "[nltk_data]     C:\\Users\\hp\\AppData\\Roaming\\nltk_data...\n",
      "[nltk_data]   Package vader_lexicon is already up-to-date!\n"
     ]
    },
    {
     "data": {
      "text/plain": [
       "True"
      ]
     },
     "execution_count": 3,
     "metadata": {},
     "output_type": "execute_result"
    }
   ],
   "source": [
    "import pandas as pd\n",
    "from sklearn.model_selection import train_test_split\n",
    "from sklearn.feature_extraction.text import TfidfVectorizer\n",
    "from sklearn.tree import DecisionTreeClassifier\n",
    "from sklearn.metrics import accuracy_score\n",
    "import nltk\n",
    "from nltk.sentiment import SentimentIntensityAnalyzer\n",
    "from sklearn.preprocessing import LabelEncoder\n",
    "\n",
    "# Download the necessary resources for nltk\n",
    "nltk.download('vader_lexicon')"
   ]
  },
  {
   "cell_type": "code",
   "execution_count": 4,
   "metadata": {},
   "outputs": [
    {
     "ename": "ModuleNotFoundError",
     "evalue": "No module named 'textblob'",
     "output_type": "error",
     "traceback": [
      "\u001b[1;31m---------------------------------------------------------------------------\u001b[0m",
      "\u001b[1;31mModuleNotFoundError\u001b[0m                       Traceback (most recent call last)",
      "Cell \u001b[1;32mIn[4], line 10\u001b[0m\n\u001b[0;32m      8\u001b[0m \u001b[38;5;28;01mfrom\u001b[39;00m \u001b[38;5;21;01mnltk\u001b[39;00m\u001b[38;5;21;01m.\u001b[39;00m\u001b[38;5;21;01mclassify\u001b[39;00m \u001b[38;5;28;01mimport\u001b[39;00m SklearnClassifier\n\u001b[0;32m      9\u001b[0m \u001b[38;5;28;01mfrom\u001b[39;00m \u001b[38;5;21;01msklearn\u001b[39;00m\u001b[38;5;21;01m.\u001b[39;00m\u001b[38;5;21;01mmodel_selection\u001b[39;00m \u001b[38;5;28;01mimport\u001b[39;00m train_test_split\n\u001b[1;32m---> 10\u001b[0m \u001b[38;5;28;01mfrom\u001b[39;00m \u001b[38;5;21;01mtextblob\u001b[39;00m \u001b[38;5;28;01mimport\u001b[39;00m TextBlob, Word\n\u001b[0;32m     11\u001b[0m \u001b[38;5;28;01mfrom\u001b[39;00m \u001b[38;5;21;01mwordcloud\u001b[39;00m \u001b[38;5;28;01mimport\u001b[39;00m WordCloud,STOPWORDS\n\u001b[0;32m     12\u001b[0m \u001b[38;5;28;01mfrom\u001b[39;00m \u001b[38;5;21;01msubprocess\u001b[39;00m \u001b[38;5;28;01mimport\u001b[39;00m check_output\n",
      "\u001b[1;31mModuleNotFoundError\u001b[0m: No module named 'textblob'"
     ]
    }
   ],
   "source": [
    "import pandas as pd\n",
    "import numpy as np\n",
    "import matplotlib.pyplot as plt\n",
    "%matplotlib inline\n",
    "plt.style.use(\"fivethirtyeight\")\n",
    "import nltk\n",
    "from nltk.corpus import stopwords\n",
    "from nltk.classify import SklearnClassifier\n",
    "from sklearn.model_selection import train_test_split\n",
    "from textblob import TextBlob, Word\n",
    "from wordcloud import WordCloud,STOPWORDS\n",
    "from subprocess import check_output\n",
    "import re\n",
    "from sklearn.feature_extraction.text import TfidfVectorizer\n",
    "from sklearn.model_selection import train_test_split\n",
    "from sklearn.linear_model import LogisticRegression\n",
    "from sklearn.metrics import accuracy_score,classification_report\n",
    "from sklearn.feature_extraction.text import CountVectorizer"
   ]
  },
  {
   "cell_type": "code",
   "execution_count": 17,
   "metadata": {},
   "outputs": [
    {
     "name": "stdout",
     "output_type": "stream",
     "text": [
      "Collecting textblob\n",
      "  Using cached textblob-0.19.0-py3-none-any.whl.metadata (4.4 kB)\n",
      "Requirement already satisfied: nltk>=3.9 in c:\\users\\hp\\anaconda3\\lib\\site-packages (from textblob) (3.9.1)\n",
      "Requirement already satisfied: click in c:\\users\\hp\\anaconda3\\lib\\site-packages (from nltk>=3.9->textblob) (8.1.7)\n",
      "Requirement already satisfied: joblib in c:\\users\\hp\\anaconda3\\lib\\site-packages (from nltk>=3.9->textblob) (1.4.2)\n",
      "Requirement already satisfied: regex>=2021.8.3 in c:\\users\\hp\\anaconda3\\lib\\site-packages (from nltk>=3.9->textblob) (2024.9.11)\n",
      "Requirement already satisfied: tqdm in c:\\users\\hp\\anaconda3\\lib\\site-packages (from nltk>=3.9->textblob) (4.66.5)\n",
      "Requirement already satisfied: colorama in c:\\users\\hp\\anaconda3\\lib\\site-packages (from click->nltk>=3.9->textblob) (0.4.6)\n",
      "Using cached textblob-0.19.0-py3-none-any.whl (624 kB)\n",
      "Installing collected packages: textblob\n",
      "Successfully installed textblob-0.19.0\n"
     ]
    }
   ],
   "source": [
    "!pip install textblob\n",
    "\n"
   ]
  },
  {
   "cell_type": "code",
   "execution_count": 5,
   "metadata": {},
   "outputs": [
    {
     "ename": "FileNotFoundError",
     "evalue": "[Errno 2] No such file or directory: './Sentiment.csv'",
     "output_type": "error",
     "traceback": [
      "\u001b[1;31m---------------------------------------------------------------------------\u001b[0m",
      "\u001b[1;31mFileNotFoundError\u001b[0m                         Traceback (most recent call last)",
      "Cell \u001b[1;32mIn[5], line 1\u001b[0m\n\u001b[1;32m----> 1\u001b[0m df\u001b[38;5;241m=\u001b[39mpd\u001b[38;5;241m.\u001b[39mread_csv(\u001b[38;5;124m\"\u001b[39m\u001b[38;5;124m./Sentiment.csv\u001b[39m\u001b[38;5;124m\"\u001b[39m)\n\u001b[0;32m      2\u001b[0m df\u001b[38;5;241m.\u001b[39mhead()\n\u001b[0;32m      3\u001b[0m df[\u001b[38;5;124m'\u001b[39m\u001b[38;5;124msentiment\u001b[39m\u001b[38;5;124m'\u001b[39m]\u001b[38;5;241m.\u001b[39mvalue_counts()\n",
      "File \u001b[1;32m~\\anaconda3\\Lib\\site-packages\\pandas\\io\\parsers\\readers.py:1026\u001b[0m, in \u001b[0;36mread_csv\u001b[1;34m(filepath_or_buffer, sep, delimiter, header, names, index_col, usecols, dtype, engine, converters, true_values, false_values, skipinitialspace, skiprows, skipfooter, nrows, na_values, keep_default_na, na_filter, verbose, skip_blank_lines, parse_dates, infer_datetime_format, keep_date_col, date_parser, date_format, dayfirst, cache_dates, iterator, chunksize, compression, thousands, decimal, lineterminator, quotechar, quoting, doublequote, escapechar, comment, encoding, encoding_errors, dialect, on_bad_lines, delim_whitespace, low_memory, memory_map, float_precision, storage_options, dtype_backend)\u001b[0m\n\u001b[0;32m   1013\u001b[0m kwds_defaults \u001b[38;5;241m=\u001b[39m _refine_defaults_read(\n\u001b[0;32m   1014\u001b[0m     dialect,\n\u001b[0;32m   1015\u001b[0m     delimiter,\n\u001b[1;32m   (...)\u001b[0m\n\u001b[0;32m   1022\u001b[0m     dtype_backend\u001b[38;5;241m=\u001b[39mdtype_backend,\n\u001b[0;32m   1023\u001b[0m )\n\u001b[0;32m   1024\u001b[0m kwds\u001b[38;5;241m.\u001b[39mupdate(kwds_defaults)\n\u001b[1;32m-> 1026\u001b[0m \u001b[38;5;28;01mreturn\u001b[39;00m _read(filepath_or_buffer, kwds)\n",
      "File \u001b[1;32m~\\anaconda3\\Lib\\site-packages\\pandas\\io\\parsers\\readers.py:620\u001b[0m, in \u001b[0;36m_read\u001b[1;34m(filepath_or_buffer, kwds)\u001b[0m\n\u001b[0;32m    617\u001b[0m _validate_names(kwds\u001b[38;5;241m.\u001b[39mget(\u001b[38;5;124m\"\u001b[39m\u001b[38;5;124mnames\u001b[39m\u001b[38;5;124m\"\u001b[39m, \u001b[38;5;28;01mNone\u001b[39;00m))\n\u001b[0;32m    619\u001b[0m \u001b[38;5;66;03m# Create the parser.\u001b[39;00m\n\u001b[1;32m--> 620\u001b[0m parser \u001b[38;5;241m=\u001b[39m TextFileReader(filepath_or_buffer, \u001b[38;5;241m*\u001b[39m\u001b[38;5;241m*\u001b[39mkwds)\n\u001b[0;32m    622\u001b[0m \u001b[38;5;28;01mif\u001b[39;00m chunksize \u001b[38;5;129;01mor\u001b[39;00m iterator:\n\u001b[0;32m    623\u001b[0m     \u001b[38;5;28;01mreturn\u001b[39;00m parser\n",
      "File \u001b[1;32m~\\anaconda3\\Lib\\site-packages\\pandas\\io\\parsers\\readers.py:1620\u001b[0m, in \u001b[0;36mTextFileReader.__init__\u001b[1;34m(self, f, engine, **kwds)\u001b[0m\n\u001b[0;32m   1617\u001b[0m     \u001b[38;5;28mself\u001b[39m\u001b[38;5;241m.\u001b[39moptions[\u001b[38;5;124m\"\u001b[39m\u001b[38;5;124mhas_index_names\u001b[39m\u001b[38;5;124m\"\u001b[39m] \u001b[38;5;241m=\u001b[39m kwds[\u001b[38;5;124m\"\u001b[39m\u001b[38;5;124mhas_index_names\u001b[39m\u001b[38;5;124m\"\u001b[39m]\n\u001b[0;32m   1619\u001b[0m \u001b[38;5;28mself\u001b[39m\u001b[38;5;241m.\u001b[39mhandles: IOHandles \u001b[38;5;241m|\u001b[39m \u001b[38;5;28;01mNone\u001b[39;00m \u001b[38;5;241m=\u001b[39m \u001b[38;5;28;01mNone\u001b[39;00m\n\u001b[1;32m-> 1620\u001b[0m \u001b[38;5;28mself\u001b[39m\u001b[38;5;241m.\u001b[39m_engine \u001b[38;5;241m=\u001b[39m \u001b[38;5;28mself\u001b[39m\u001b[38;5;241m.\u001b[39m_make_engine(f, \u001b[38;5;28mself\u001b[39m\u001b[38;5;241m.\u001b[39mengine)\n",
      "File \u001b[1;32m~\\anaconda3\\Lib\\site-packages\\pandas\\io\\parsers\\readers.py:1880\u001b[0m, in \u001b[0;36mTextFileReader._make_engine\u001b[1;34m(self, f, engine)\u001b[0m\n\u001b[0;32m   1878\u001b[0m     \u001b[38;5;28;01mif\u001b[39;00m \u001b[38;5;124m\"\u001b[39m\u001b[38;5;124mb\u001b[39m\u001b[38;5;124m\"\u001b[39m \u001b[38;5;129;01mnot\u001b[39;00m \u001b[38;5;129;01min\u001b[39;00m mode:\n\u001b[0;32m   1879\u001b[0m         mode \u001b[38;5;241m+\u001b[39m\u001b[38;5;241m=\u001b[39m \u001b[38;5;124m\"\u001b[39m\u001b[38;5;124mb\u001b[39m\u001b[38;5;124m\"\u001b[39m\n\u001b[1;32m-> 1880\u001b[0m \u001b[38;5;28mself\u001b[39m\u001b[38;5;241m.\u001b[39mhandles \u001b[38;5;241m=\u001b[39m get_handle(\n\u001b[0;32m   1881\u001b[0m     f,\n\u001b[0;32m   1882\u001b[0m     mode,\n\u001b[0;32m   1883\u001b[0m     encoding\u001b[38;5;241m=\u001b[39m\u001b[38;5;28mself\u001b[39m\u001b[38;5;241m.\u001b[39moptions\u001b[38;5;241m.\u001b[39mget(\u001b[38;5;124m\"\u001b[39m\u001b[38;5;124mencoding\u001b[39m\u001b[38;5;124m\"\u001b[39m, \u001b[38;5;28;01mNone\u001b[39;00m),\n\u001b[0;32m   1884\u001b[0m     compression\u001b[38;5;241m=\u001b[39m\u001b[38;5;28mself\u001b[39m\u001b[38;5;241m.\u001b[39moptions\u001b[38;5;241m.\u001b[39mget(\u001b[38;5;124m\"\u001b[39m\u001b[38;5;124mcompression\u001b[39m\u001b[38;5;124m\"\u001b[39m, \u001b[38;5;28;01mNone\u001b[39;00m),\n\u001b[0;32m   1885\u001b[0m     memory_map\u001b[38;5;241m=\u001b[39m\u001b[38;5;28mself\u001b[39m\u001b[38;5;241m.\u001b[39moptions\u001b[38;5;241m.\u001b[39mget(\u001b[38;5;124m\"\u001b[39m\u001b[38;5;124mmemory_map\u001b[39m\u001b[38;5;124m\"\u001b[39m, \u001b[38;5;28;01mFalse\u001b[39;00m),\n\u001b[0;32m   1886\u001b[0m     is_text\u001b[38;5;241m=\u001b[39mis_text,\n\u001b[0;32m   1887\u001b[0m     errors\u001b[38;5;241m=\u001b[39m\u001b[38;5;28mself\u001b[39m\u001b[38;5;241m.\u001b[39moptions\u001b[38;5;241m.\u001b[39mget(\u001b[38;5;124m\"\u001b[39m\u001b[38;5;124mencoding_errors\u001b[39m\u001b[38;5;124m\"\u001b[39m, \u001b[38;5;124m\"\u001b[39m\u001b[38;5;124mstrict\u001b[39m\u001b[38;5;124m\"\u001b[39m),\n\u001b[0;32m   1888\u001b[0m     storage_options\u001b[38;5;241m=\u001b[39m\u001b[38;5;28mself\u001b[39m\u001b[38;5;241m.\u001b[39moptions\u001b[38;5;241m.\u001b[39mget(\u001b[38;5;124m\"\u001b[39m\u001b[38;5;124mstorage_options\u001b[39m\u001b[38;5;124m\"\u001b[39m, \u001b[38;5;28;01mNone\u001b[39;00m),\n\u001b[0;32m   1889\u001b[0m )\n\u001b[0;32m   1890\u001b[0m \u001b[38;5;28;01massert\u001b[39;00m \u001b[38;5;28mself\u001b[39m\u001b[38;5;241m.\u001b[39mhandles \u001b[38;5;129;01mis\u001b[39;00m \u001b[38;5;129;01mnot\u001b[39;00m \u001b[38;5;28;01mNone\u001b[39;00m\n\u001b[0;32m   1891\u001b[0m f \u001b[38;5;241m=\u001b[39m \u001b[38;5;28mself\u001b[39m\u001b[38;5;241m.\u001b[39mhandles\u001b[38;5;241m.\u001b[39mhandle\n",
      "File \u001b[1;32m~\\anaconda3\\Lib\\site-packages\\pandas\\io\\common.py:873\u001b[0m, in \u001b[0;36mget_handle\u001b[1;34m(path_or_buf, mode, encoding, compression, memory_map, is_text, errors, storage_options)\u001b[0m\n\u001b[0;32m    868\u001b[0m \u001b[38;5;28;01melif\u001b[39;00m \u001b[38;5;28misinstance\u001b[39m(handle, \u001b[38;5;28mstr\u001b[39m):\n\u001b[0;32m    869\u001b[0m     \u001b[38;5;66;03m# Check whether the filename is to be opened in binary mode.\u001b[39;00m\n\u001b[0;32m    870\u001b[0m     \u001b[38;5;66;03m# Binary mode does not support 'encoding' and 'newline'.\u001b[39;00m\n\u001b[0;32m    871\u001b[0m     \u001b[38;5;28;01mif\u001b[39;00m ioargs\u001b[38;5;241m.\u001b[39mencoding \u001b[38;5;129;01mand\u001b[39;00m \u001b[38;5;124m\"\u001b[39m\u001b[38;5;124mb\u001b[39m\u001b[38;5;124m\"\u001b[39m \u001b[38;5;129;01mnot\u001b[39;00m \u001b[38;5;129;01min\u001b[39;00m ioargs\u001b[38;5;241m.\u001b[39mmode:\n\u001b[0;32m    872\u001b[0m         \u001b[38;5;66;03m# Encoding\u001b[39;00m\n\u001b[1;32m--> 873\u001b[0m         handle \u001b[38;5;241m=\u001b[39m \u001b[38;5;28mopen\u001b[39m(\n\u001b[0;32m    874\u001b[0m             handle,\n\u001b[0;32m    875\u001b[0m             ioargs\u001b[38;5;241m.\u001b[39mmode,\n\u001b[0;32m    876\u001b[0m             encoding\u001b[38;5;241m=\u001b[39mioargs\u001b[38;5;241m.\u001b[39mencoding,\n\u001b[0;32m    877\u001b[0m             errors\u001b[38;5;241m=\u001b[39merrors,\n\u001b[0;32m    878\u001b[0m             newline\u001b[38;5;241m=\u001b[39m\u001b[38;5;124m\"\u001b[39m\u001b[38;5;124m\"\u001b[39m,\n\u001b[0;32m    879\u001b[0m         )\n\u001b[0;32m    880\u001b[0m     \u001b[38;5;28;01melse\u001b[39;00m:\n\u001b[0;32m    881\u001b[0m         \u001b[38;5;66;03m# Binary mode\u001b[39;00m\n\u001b[0;32m    882\u001b[0m         handle \u001b[38;5;241m=\u001b[39m \u001b[38;5;28mopen\u001b[39m(handle, ioargs\u001b[38;5;241m.\u001b[39mmode)\n",
      "\u001b[1;31mFileNotFoundError\u001b[0m: [Errno 2] No such file or directory: './Sentiment.csv'"
     ]
    }
   ],
   "source": [
    "df=pd.read_csv(\"./Sentiment.csv\")\n",
    "df.head()\n",
    "df['sentiment'].value_counts()\n",
    "df=df[[\"text\",\"sentiment\"]]"
   ]
  },
  {
   "cell_type": "code",
   "execution_count": 18,
   "metadata": {},
   "outputs": [
    {
     "name": "stdout",
     "output_type": "stream",
     "text": [
      "C:\\Users\\hp\\Desktop\\Performance-Comparision-of-Various-Optimizers-for-Sentiment-Analysis\n"
     ]
    }
   ],
   "source": [
    "import os\n",
    "print(os.getcwd())"
   ]
  },
  {
   "cell_type": "code",
   "execution_count": null,
   "metadata": {},
   "outputs": [],
   "source": []
  },
  {
   "cell_type": "code",
   "execution_count": null,
   "metadata": {},
   "outputs": [],
   "source": []
  },
  {
   "cell_type": "code",
   "execution_count": null,
   "metadata": {},
   "outputs": [],
   "source": []
  },
  {
   "cell_type": "code",
   "execution_count": 19,
   "metadata": {},
   "outputs": [],
   "source": [
    "# df = df[df.sentiment != \"Neutral\"]\n",
    "# df['sentiment']= pd.get_dummies(df['sentiment'], drop_first = True)\n",
    "# df = df.reset_index(drop=True)\n",
    "# df.head()"
   ]
  },
  {
   "cell_type": "code",
   "execution_count": 7,
   "metadata": {},
   "outputs": [
    {
     "name": "stderr",
     "output_type": "stream",
     "text": [
      "<>:20: SyntaxWarning: invalid escape sequence '\\/'\n",
      "<>:24: SyntaxWarning: invalid escape sequence '\\w'\n",
      "<>:20: SyntaxWarning: invalid escape sequence '\\/'\n",
      "<>:24: SyntaxWarning: invalid escape sequence '\\w'\n",
      "C:\\Users\\hp\\AppData\\Local\\Temp\\ipykernel_16156\\2108273019.py:20: SyntaxWarning: invalid escape sequence '\\/'\n",
      "  df[\"text\"] = df[\"text\"].str.replace(\".+:\\/.+t.co\\/.+\", \"\")\n",
      "C:\\Users\\hp\\AppData\\Local\\Temp\\ipykernel_16156\\2108273019.py:24: SyntaxWarning: invalid escape sequence '\\w'\n",
      "  df[\"text\"] = df[\"text\"].str.replace(\"[^\\w\\s]\",\"\")\n",
      "C:\\Users\\hp\\AppData\\Local\\Temp\\ipykernel_16156\\2108273019.py:20: SyntaxWarning: invalid escape sequence '\\/'\n",
      "  df[\"text\"] = df[\"text\"].str.replace(\".+:\\/.+t.co\\/.+\", \"\")\n",
      "C:\\Users\\hp\\AppData\\Local\\Temp\\ipykernel_16156\\2108273019.py:24: SyntaxWarning: invalid escape sequence '\\w'\n",
      "  df[\"text\"] = df[\"text\"].str.replace(\"[^\\w\\s]\",\"\")\n"
     ]
    },
    {
     "ename": "NameError",
     "evalue": "name 'df' is not defined",
     "output_type": "error",
     "traceback": [
      "\u001b[1;31m---------------------------------------------------------------------------\u001b[0m",
      "\u001b[1;31mNameError\u001b[0m                                 Traceback (most recent call last)",
      "Cell \u001b[1;32mIn[7], line 10\u001b[0m\n\u001b[0;32m      8\u001b[0m     text \u001b[38;5;241m=\u001b[39m re\u001b[38;5;241m.\u001b[39msub(\u001b[38;5;124mr\u001b[39m\u001b[38;5;124m'\u001b[39m\u001b[38;5;124mhttp\u001b[39m\u001b[38;5;124m'\u001b[39m, \u001b[38;5;124m'\u001b[39m\u001b[38;5;124m'\u001b[39m,text)\n\u001b[0;32m      9\u001b[0m     \u001b[38;5;28;01mreturn\u001b[39;00m text\n\u001b[1;32m---> 10\u001b[0m df[\u001b[38;5;124m\"\u001b[39m\u001b[38;5;124mtext\u001b[39m\u001b[38;5;124m\"\u001b[39m] \u001b[38;5;241m=\u001b[39m df[\u001b[38;5;124m\"\u001b[39m\u001b[38;5;124mtext\u001b[39m\u001b[38;5;124m\"\u001b[39m]\u001b[38;5;241m.\u001b[39mapply(cleantxt)\n\u001b[0;32m     11\u001b[0m df[\u001b[38;5;124m\"\u001b[39m\u001b[38;5;124mtext\u001b[39m\u001b[38;5;124m\"\u001b[39m] \u001b[38;5;241m=\u001b[39m df[\u001b[38;5;124m\"\u001b[39m\u001b[38;5;124mtext\u001b[39m\u001b[38;5;124m\"\u001b[39m]\u001b[38;5;241m.\u001b[39mapply(\u001b[38;5;28;01mlambda\u001b[39;00m el: el\u001b[38;5;241m.\u001b[39mreplace(\u001b[38;5;124m\"\u001b[39m\u001b[38;5;124mRT \u001b[39m\u001b[38;5;124m\"\u001b[39m, \u001b[38;5;124m\"\u001b[39m\u001b[38;5;124m\"\u001b[39m))\n\u001b[0;32m     12\u001b[0m df[\u001b[38;5;124m\"\u001b[39m\u001b[38;5;124mtext\u001b[39m\u001b[38;5;124m\"\u001b[39m] \u001b[38;5;241m=\u001b[39m df[\u001b[38;5;124m\"\u001b[39m\u001b[38;5;124mtext\u001b[39m\u001b[38;5;124m\"\u001b[39m]\u001b[38;5;241m.\u001b[39mapply(\u001b[38;5;28;01mlambda\u001b[39;00m el: el\u001b[38;5;241m.\u001b[39mreplace(\u001b[38;5;124m\"\u001b[39m\u001b[38;5;124m#GOPDebate \u001b[39m\u001b[38;5;124m\"\u001b[39m, \u001b[38;5;124m\"\u001b[39m\u001b[38;5;124m\"\u001b[39m))\n",
      "\u001b[1;31mNameError\u001b[0m: name 'df' is not defined"
     ]
    }
   ],
   "source": [
    "def cleantxt(text):\n",
    "    text= re.sub(r'@[A-Za-z0-9]+', '',text)# removed @mentions\n",
    "    text= re.sub(r'#', '',text)# removed # symbol\n",
    "    text = re.sub(r'RT[\\s]+', '',text)# rmoved RT\n",
    "    text = re.sub(r'https?:\\/\\/\\s+', '',text)# removed the hyperlink\n",
    "    text = re.sub(r':+', '',text)# removed : symbol\n",
    "    text = re.sub(r'--+', '',text)# removed : symbol\n",
    "    text = re.sub(r'http', '',text)\n",
    "    return text\n",
    "df[\"text\"] = df[\"text\"].apply(cleantxt)\n",
    "df[\"text\"] = df[\"text\"].apply(lambda el: el.replace(\"RT \", \"\"))\n",
    "df[\"text\"] = df[\"text\"].apply(lambda el: el.replace(\"#GOPDebate \", \"\"))\n",
    "df[\"text\"] = df[\"text\"].apply(lambda el: el.replace(\"#GOPDebates \", \"\"))\n",
    "df[\"text\"] = df[\"text\"].apply(lambda el: el.replace(\"#GOPdebate \", \"\"))\n",
    "df[\"text\"] = df[\"text\"].apply(lambda el: el.replace(\"#gopdebate \", \"\"))\n",
    "df[\"text\"] = df[\"text\"].str.replace(\"@.+: \",\"\")\n",
    "df[\"text\"] = df[\"text\"].apply(lambda el: el.replace(\"w/ \", \"\"))\n",
    "df[\"text\"] = df[\"text\"].apply(lambda el: el.replace(\"#TedCruz \", \"Ted Cruz \"))\n",
    "df[\"text\"] = df[\"text\"].apply(lambda el: el.replace(\"@realDonaldTrump \", \"Donald Trump \"))\n",
    "df[\"text\"] = df[\"text\"].str.replace(\".+:\\/.+t.co\\/.+\", \"\")\n",
    "df[\"text\"] = df[\"text\"].str.replace(\"(#.+ )|(#.+)\", \"\")\n",
    "df[\"text\"] = df[\"text\"].str.replace(\"@.+ \", \"\")\n",
    "# df[\"text\"] = df[\"text\"].apply(lambda el: replace_emoj(el))\n",
    "df[\"text\"] = df[\"text\"].str.replace(\"[^\\w\\s]\",\"\")\n",
    "df[\"text\"] = df[\"text\"].apply(lambda el: el.strip())\n",
    "df.head()"
   ]
  },
  {
   "cell_type": "code",
   "execution_count": 8,
   "metadata": {},
   "outputs": [
    {
     "ename": "NameError",
     "evalue": "name 'df' is not defined",
     "output_type": "error",
     "traceback": [
      "\u001b[1;31m---------------------------------------------------------------------------\u001b[0m",
      "\u001b[1;31mNameError\u001b[0m                                 Traceback (most recent call last)",
      "Cell \u001b[1;32mIn[8], line 1\u001b[0m\n\u001b[1;32m----> 1\u001b[0m X\u001b[38;5;241m=\u001b[39mdf[\u001b[38;5;124m'\u001b[39m\u001b[38;5;124mtext\u001b[39m\u001b[38;5;124m'\u001b[39m]\u001b[38;5;241m.\u001b[39mvalues\n\u001b[0;32m      2\u001b[0m y\u001b[38;5;241m=\u001b[39mdf[\u001b[38;5;124m'\u001b[39m\u001b[38;5;124msentiment\u001b[39m\u001b[38;5;124m'\u001b[39m]\u001b[38;5;241m.\u001b[39mvalues\n\u001b[0;32m      3\u001b[0m \u001b[38;5;66;03m# Encode target labels\u001b[39;00m\n",
      "\u001b[1;31mNameError\u001b[0m: name 'df' is not defined"
     ]
    }
   ],
   "source": [
    "X=df['text'].values\n",
    "y=df['sentiment'].values\n",
    "# Encode target labels\n",
    "label_encoder = LabelEncoder()\n",
    "y = label_encoder.fit_transform(y)\n",
    "print(y)"
   ]
  },
  {
   "cell_type": "code",
   "execution_count": 9,
   "metadata": {},
   "outputs": [
    {
     "ename": "NameError",
     "evalue": "name 'df' is not defined",
     "output_type": "error",
     "traceback": [
      "\u001b[1;31m---------------------------------------------------------------------------\u001b[0m",
      "\u001b[1;31mNameError\u001b[0m                                 Traceback (most recent call last)",
      "Cell \u001b[1;32mIn[9], line 10\u001b[0m\n\u001b[0;32m      7\u001b[0m     \u001b[38;5;28;01mreturn\u001b[39;00m sentiment_score\n\u001b[0;32m      9\u001b[0m \u001b[38;5;66;03m# Apply sentiment lexicon to the dataset\u001b[39;00m\n\u001b[1;32m---> 10\u001b[0m df[\u001b[38;5;124m'\u001b[39m\u001b[38;5;124msentiment_score\u001b[39m\u001b[38;5;124m'\u001b[39m] \u001b[38;5;241m=\u001b[39m df[\u001b[38;5;124m'\u001b[39m\u001b[38;5;124mtext\u001b[39m\u001b[38;5;124m'\u001b[39m]\u001b[38;5;241m.\u001b[39mapply(calculate_sentiment)\n\u001b[0;32m     12\u001b[0m \u001b[38;5;66;03m# Split the dataset into training and testing sets\u001b[39;00m\n\u001b[0;32m     13\u001b[0m X_train, X_test, y_train, y_test \u001b[38;5;241m=\u001b[39m train_test_split(df[[\u001b[38;5;124m'\u001b[39m\u001b[38;5;124mtext\u001b[39m\u001b[38;5;124m'\u001b[39m, \u001b[38;5;124m'\u001b[39m\u001b[38;5;124msentiment_score\u001b[39m\u001b[38;5;124m'\u001b[39m]], df[\u001b[38;5;124m'\u001b[39m\u001b[38;5;124msentiment\u001b[39m\u001b[38;5;124m'\u001b[39m], test_size\u001b[38;5;241m=\u001b[39m\u001b[38;5;241m0.2\u001b[39m, random_state\u001b[38;5;241m=\u001b[39m\u001b[38;5;241m42\u001b[39m)\n",
      "\u001b[1;31mNameError\u001b[0m: name 'df' is not defined"
     ]
    }
   ],
   "source": [
    "# Initialize SentimentIntensityAnalyzer\n",
    "sid = SentimentIntensityAnalyzer()\n",
    "\n",
    "# Function to calculate sentiment score for a text using SentimentIntensityAnalyzer\n",
    "def calculate_sentiment(text):\n",
    "    sentiment_score = sid.polarity_scores(text)['compound']\n",
    "    return sentiment_score\n",
    "\n",
    "# Apply sentiment lexicon to the dataset\n",
    "df['sentiment_score'] = df['text'].apply(calculate_sentiment)\n",
    "\n",
    "# Split the dataset into training and testing sets\n",
    "X_train, X_test, y_train, y_test = train_test_split(df[['text', 'sentiment_score']], df['sentiment'], test_size=0.2, random_state=42)\n",
    "\n",
    "vectorizer = TfidfVectorizer(max_features=1000)  # You can adjust max_features as needed\n",
    "X_train_tfidf = vectorizer.fit_transform(X_train['text'])\n",
    "X_test_tfidf = vectorizer.transform(X_test['text'])\n",
    "\n",
    "# Combine TF-IDF features with sentiment scores\n",
    "import scipy.sparse as sp\n",
    "X_train_combined = sp.hstack((X_train_tfidf, X_train['sentiment_score'].values.reshape(-1, 1)))\n",
    "X_test_combined = sp.hstack((X_test_tfidf, X_test['sentiment_score'].values.reshape(-1, 1)))\n",
    "print(y_test)"
   ]
  },
  {
   "cell_type": "code",
   "execution_count": 10,
   "metadata": {},
   "outputs": [
    {
     "ename": "NameError",
     "evalue": "name 'X_train_combined' is not defined",
     "output_type": "error",
     "traceback": [
      "\u001b[1;31m---------------------------------------------------------------------------\u001b[0m",
      "\u001b[1;31mNameError\u001b[0m                                 Traceback (most recent call last)",
      "Cell \u001b[1;32mIn[10], line 4\u001b[0m\n\u001b[0;32m      1\u001b[0m \u001b[38;5;66;03m# Train and evaluate Decision Tree models\u001b[39;00m\n\u001b[0;32m      2\u001b[0m \u001b[38;5;66;03m# J48 Decision Tree\u001b[39;00m\n\u001b[0;32m      3\u001b[0m j48_model \u001b[38;5;241m=\u001b[39m DecisionTreeClassifier()  \u001b[38;5;66;03m# Default J48 implementation\u001b[39;00m\n\u001b[1;32m----> 4\u001b[0m j48_model\u001b[38;5;241m.\u001b[39mfit(X_train_combined, y_train)\n\u001b[0;32m      5\u001b[0m j48_y_pred \u001b[38;5;241m=\u001b[39m j48_model\u001b[38;5;241m.\u001b[39mpredict(X_test_combined)\n\u001b[0;32m      6\u001b[0m j48_accuracy \u001b[38;5;241m=\u001b[39m accuracy_score(y_test, j48_y_pred)\n",
      "\u001b[1;31mNameError\u001b[0m: name 'X_train_combined' is not defined"
     ]
    }
   ],
   "source": [
    "# Train and evaluate Decision Tree models\n",
    "# J48 Decision Tree\n",
    "j48_model = DecisionTreeClassifier()  # Default J48 implementation\n",
    "j48_model.fit(X_train_combined, y_train)\n",
    "j48_y_pred = j48_model.predict(X_test_combined)\n",
    "j48_accuracy = accuracy_score(y_test, j48_y_pred)\n",
    "print(f\"J48 Accuracy: {j48_accuracy:.2f}\")\n",
    "positive_mask = (y_test =='Positive')\n",
    "negative_mask = (y_test == 'Negative')\n",
    "neutral_mask = (y_test == 'Neutral')\n",
    "\n",
    "# Calculate accuracy for each sentiment category\n",
    "accuracy_positive = accuracy_score(y_test[positive_mask], j48_y_pred[positive_mask])\n",
    "accuracy_negative = accuracy_score(y_test[negative_mask], j48_y_pred[negative_mask])\n",
    "accuracy_neutral = accuracy_score(y_test[neutral_mask], j48_y_pred[neutral_mask])\n",
    "\n",
    "print(\"Accuracy for Positive Sentiments:\", accuracy_positive)\n",
    "print(\"Accuracy for Negative Sentiments:\", accuracy_negative)\n",
    "print(\"Accuracy for Neutral Sentiments:\", accuracy_neutral)\n",
    "\n",
    "\n",
    "\n",
    "# BFTree (Best-First Decision Tree)\n",
    "bftree_model = DecisionTreeClassifier(splitter='best')  # Best-first decision tree\n",
    "bftree_model.fit(X_train_combined, y_train)\n",
    "bftree_y_pred = bftree_model.predict(X_test_combined)\n",
    "bftree_accuracy = accuracy_score(y_test, bftree_y_pred)\n",
    "print(f\"BFTree Accuracy: {bftree_accuracy:.2f}\")\n",
    "\n",
    "positive_mask = (y_test =='Positive')\n",
    "negative_mask = (y_test == 'Negative')\n",
    "neutral_mask = (y_test == 'Neutral')\n",
    "\n",
    "# Calculate accuracy for each sentiment category\n",
    "accuracy_positive = accuracy_score(y_test[positive_mask], bftree_y_pred[positive_mask])\n",
    "accuracy_negative = accuracy_score(y_test[negative_mask], bftree_y_pred[negative_mask])\n",
    "accuracy_neutral = accuracy_score(y_test[neutral_mask], bftree_y_pred[neutral_mask])\n",
    "\n",
    "print(\"Accuracy for Positive Sentiments:\", accuracy_positive)\n",
    "print(\"Accuracy for Negative Sentiments:\", accuracy_negative)\n",
    "print(\"Accuracy for Neutral Sentiments:\", accuracy_neutral)\n",
    "\n",
    "# OneR Decision Tree\n",
    "oner_model = DecisionTreeClassifier(max_depth=1)  # OneR decision tree (depth limited to 1)\n",
    "oner_model.fit(X_train_combined, y_train)\n",
    "oner_y_pred = oner_model.predict(X_test_combined)\n",
    "oner_accuracy = accuracy_score(y_test, oner_y_pred)\n",
    "print(f\"OneR Accuracy: {oner_accuracy:.2f}\")\n",
    "\n",
    "positive_mask = (y_test =='Positive')\n",
    "negative_mask = (y_test == 'Negative')\n",
    "neutral_mask = (y_test == 'Neutral')\n",
    "\n",
    "# Calculate accuracy for each sentiment category\n",
    "accuracy_positive = accuracy_score(y_test[positive_mask], oner_y_pred[positive_mask])\n",
    "accuracy_negative = accuracy_score(y_test[negative_mask], oner_y_pred[negative_mask])\n",
    "accuracy_neutral = accuracy_score(y_test[neutral_mask], oner_y_pred[neutral_mask])\n",
    "\n",
    "print(\"Accuracy for Positive Sentiments:\", accuracy_positive)\n",
    "print(\"Accuracy for Negative Sentiments:\", accuracy_negative)\n",
    "print(\"Accuracy for Neutral Sentiments:\", accuracy_neutral)"
   ]
  },
  {
   "cell_type": "code",
   "execution_count": 11,
   "metadata": {},
   "outputs": [],
   "source": [
    "# import numpy as np\n",
    "# from sklearn.model_selection import train_test_split\n",
    "# from sklearn.ensemble import RandomForestClassifier\n",
    "# from sklearn.feature_extraction.text import TfidfVectorizer\n",
    "# from sklearn.metrics import accuracy_score\n",
    "# from scipy.optimize import minimize\n",
    "\n",
    "# # Assuming df is your preprocessed DataFrame with 'text' and 'sentiment' columns\n",
    "\n",
    "# # # Splitting data into features (X) and target labels (y)\n",
    "# X = df['text']\n",
    "# y = df['sentiment']\n",
    "\n",
    "# # Splitting data into training and testing sets\n",
    "# X_train, X_test, y_train, y_test = train_test_split(X, y, test_size=0.2, random_state=42)\n",
    "\n",
    "# # Tokenization and TF-IDF Vectorization\n",
    "# tfidf_vectorizer = TfidfVectorizer()\n",
    "# X_train_tfidf = tfidf_vectorizer.fit_transform(X_train)\n",
    "# X_test_tfidf = tfidf_vectorizer.transform(X_test)\n",
    "\n",
    "# # Define the objective function to optimize\n",
    "# def objective_function(params):\n",
    "#     # Unpack the parameters\n",
    "#     n_estimators, max_depth = params\n",
    "    \n",
    "#     # Initialize and train the Random Forest model with the current parameters\n",
    "#     rf_model = RandomForestClassifier(n_estimators=int(n_estimators), max_depth=int(max_depth), random_state=42)\n",
    "#     rf_model.fit(X_train_tfidf, y_train)\n",
    "    \n",
    "#     # Predict sentiment labels for the test set\n",
    "#     y_pred = rf_model.predict(X_test_tfidf)\n",
    "    \n",
    "#     # Calculate accuracy as the objective to maximize\n",
    "#     accuracy = accuracy_score(y_test, y_pred)\n",
    "    \n",
    "#     return -accuracy  # Negative because we want to maximize accuracy\n",
    "\n",
    "# # Initial guess for the parameters\n",
    "# initial_guess = [50, 10]  # Example initial guess for n_estimators and max_depth\n",
    "\n",
    "# # Bounds for the parameters (optional)\n",
    "# bounds = [(10, 100), (2, 20)]  # Example bounds for n_estimators and max_depth"
   ]
  },
  {
   "cell_type": "code",
   "execution_count": 12,
   "metadata": {},
   "outputs": [],
   "source": [
    "# # Run the optimization using Nelder-Mead algorithm\n",
    "# result = minimize(objective_function, initial_guess, bounds=bounds, method='Nelder-Mead')"
   ]
  },
  {
   "cell_type": "code",
   "execution_count": 13,
   "metadata": {},
   "outputs": [],
   "source": [
    "# # Print the best parameters found\n",
    "# best_params = result.x\n",
    "# best_accuracy = -result.fun  # Convert back to positive accuracy\n",
    "# print(\"Best Parameters:\", best_params)\n",
    "# print(\"Best Accuracy:\", best_accuracy)\n",
    "\n",
    "# # Train the final Random Forest model with the best parameters\n",
    "# best_n_estimators, best_max_depth = best_params\n",
    "# final_dt_model = DecisionTreeClassifier(max_depth=int(best_max_depth), random_state=42)\n",
    "# final_dt_model.fit(X_train_tfidf, y_train)\n",
    "\n",
    "# # Evaluate the final model on the test set\n",
    "# y_pred_final = final_dt_model.predict(X_test_tfidf)\n",
    "# final_accuracy = accuracy_score(y_test, y_pred_final)\n",
    "# print(\"Final Accuracy:\", final_accuracy)\n",
    "\n",
    "\n",
    "# # final_rf_model = RandomForestClassifier(n_estimators=int(best_n_estimators), max_depth=int(best_max_depth), random_state=42)\n",
    "# # final_rf_model.fit(X_train_tfidf, y_train)\n",
    "\n",
    "# # # Evaluate the final model on the test set\n",
    "# # y_pred_final = final_rf_model.predict(X_test_tfidf)\n",
    "# # final_accuracy = accuracy_score(y_test, y_pred_final)\n",
    "# # print(\"Final Accuracy:\", final_accuracy)"
   ]
  },
  {
   "cell_type": "code",
   "execution_count": 14,
   "metadata": {},
   "outputs": [],
   "source": [
    "# import xgboost as xgb\n",
    "# X_train, X_test, y_train, y_test = train_test_split(X, y, test_size=0.2, random_state=42)\n",
    "\n",
    "# # Tokenization and TF-IDF Vectorization\n",
    "# tfidf_vectorizer = TfidfVectorizer()\n",
    "# X_train_tfidf = tfidf_vectorizer.fit_transform(X_train)\n",
    "# X_test_tfidf = tfidf_vectorizer.transform(X_test)\n",
    "\n",
    "# # Define the XGBoost model\n",
    "# xgb_model = xgb.XGBClassifier(\n",
    "#     objective='multi:relu',  # for multiclass classification\n",
    "#     num_class=len(np.unique(y)),  # number of classes\n",
    "#     max_depth=8,  # example depth, tune this parameter\n",
    "#     learning_rate=0.1,  # example learning rate, tune this parameter\n",
    "#     n_estimators=500,  # number of trees, tune this parameter\n",
    "#     random_state=42\n",
    "# )\n",
    "\n",
    "# # Train the XGBoost model\n",
    "# xgb_model.fit(X_train_tfidf, y_train)\n",
    "\n",
    "# # Predict sentiment labels for the test set\n",
    "# y_pred = xgb_model.predict(X_test_tfidf)\n",
    "\n",
    "# # Calculate accuracy\n",
    "# accuracy = accuracy_score(y_test, y_pred)\n",
    "# print(\"Accuracy:\", accuracy)"
   ]
  },
  {
   "cell_type": "code",
   "execution_count": 15,
   "metadata": {},
   "outputs": [
    {
     "ename": "NameError",
     "evalue": "name 'df' is not defined",
     "output_type": "error",
     "traceback": [
      "\u001b[1;31m---------------------------------------------------------------------------\u001b[0m",
      "\u001b[1;31mNameError\u001b[0m                                 Traceback (most recent call last)",
      "Cell \u001b[1;32mIn[15], line 63\u001b[0m\n\u001b[0;32m     58\u001b[0m     \u001b[38;5;28;01mreturn\u001b[39;00m best_solution, best_fitness\n\u001b[0;32m     60\u001b[0m \u001b[38;5;66;03m# Assuming df is your preprocessed DataFrame with 'text' and 'sentiment' columns\u001b[39;00m\n\u001b[0;32m     61\u001b[0m \n\u001b[0;32m     62\u001b[0m \u001b[38;5;66;03m# Splitting data into features (X) and target labels (y)\u001b[39;00m\n\u001b[1;32m---> 63\u001b[0m X \u001b[38;5;241m=\u001b[39m df[\u001b[38;5;124m'\u001b[39m\u001b[38;5;124mtext\u001b[39m\u001b[38;5;124m'\u001b[39m]\n\u001b[0;32m     64\u001b[0m y \u001b[38;5;241m=\u001b[39m df[\u001b[38;5;124m'\u001b[39m\u001b[38;5;124msentiment\u001b[39m\u001b[38;5;124m'\u001b[39m]\n\u001b[0;32m     66\u001b[0m \u001b[38;5;66;03m# Splitting data into training, validation, and testing sets\u001b[39;00m\n",
      "\u001b[1;31mNameError\u001b[0m: name 'df' is not defined"
     ]
    }
   ],
   "source": [
    "import numpy as np\n",
    "from sklearn.model_selection import train_test_split\n",
    "from sklearn.svm import SVC\n",
    "from sklearn.metrics import accuracy_score\n",
    "from sklearn.feature_extraction.text import TfidfVectorizer\n",
    "from sklearn.preprocessing import StandardScaler\n",
    "from sklearn.pipeline import make_pipeline\n",
    "\n",
    "def objective_function(params):\n",
    "    \"\"\"Objective function to optimize. Takes a list of hyperparameters as input.\"\"\"\n",
    "    C, gamma = params\n",
    "    \n",
    "    # Initialize the SVM model with the given hyperparameters\n",
    "    model = SVC(C=C, gamma=gamma)\n",
    "    \n",
    "    # Train the model\n",
    "    model.fit(X_train_preprocessed, y_train)\n",
    "    \n",
    "    # Evaluate the model on the validation set\n",
    "    y_pred = model.predict(X_valid_preprocessed)\n",
    "    \n",
    "    # Calculate accuracy\n",
    "    accuracy = accuracy_score(y_valid, y_pred)\n",
    "    \n",
    "    return -accuracy  # Minimize negative accuracy\n",
    "\n",
    "def tlbo(objective_function, bounds, population_size=10, max_generations=100):\n",
    "    \"\"\"Teaching-Learning-Based Optimization (TLBO) algorithm.\"\"\"\n",
    "    num_dimensions = len(bounds)\n",
    "    population = np.random.uniform(bounds[:, 0], bounds[:, 1], (population_size, num_dimensions))\n",
    "    \n",
    "    for generation in range(max_generations):\n",
    "        # Evaluate the fitness of each solution\n",
    "        fitness = np.array([objective_function(individual) for individual in population])\n",
    "        \n",
    "        # Find the best solution (teacher)\n",
    "        teacher_index = np.argmin(fitness)\n",
    "        teacher = population[teacher_index]\n",
    "        \n",
    "        # Teacher phase\n",
    "        for i in range(population_size):\n",
    "            population[i] += np.random.uniform(-1, 1, num_dimensions) * (teacher - population[i])\n",
    "        \n",
    "        # Learner phase\n",
    "        for i in range(population_size):\n",
    "            peer_index = np.random.choice([j for j in range(population_size) if j != i])\n",
    "            peer = population[peer_index]\n",
    "            population[i] += np.random.uniform(-1, 1, num_dimensions) * (peer - population[i])\n",
    "        \n",
    "        # Clip solutions to the bounds\n",
    "        population = np.clip(population, bounds[:, 0], bounds[:, 1])\n",
    "    \n",
    "    # Return the best solution found\n",
    "    best_index = np.argmin(fitness)\n",
    "    best_solution = population[best_index]\n",
    "    best_fitness = fitness[best_index]\n",
    "    \n",
    "    return best_solution, best_fitness\n",
    "\n",
    "# Assuming df is your preprocessed DataFrame with 'text' and 'sentiment' columns\n",
    "\n",
    "# Splitting data into features (X) and target labels (y)\n",
    "X = df['text']\n",
    "y = df['sentiment']\n",
    "\n",
    "# Splitting data into training, validation, and testing sets\n",
    "X_train, X_test, y_train, y_test = train_test_split(X, y, test_size=0.2, random_state=42)\n",
    "X_train, X_valid, y_train, y_valid = train_test_split(X_train, y_train, test_size=0.25, random_state=42)  # 0.25 x 0.8 = 0.2\n",
    "\n",
    "# Create a preprocessing pipeline\n",
    "preprocessing_pipeline = make_pipeline(\n",
    "    TfidfVectorizer(),\n",
    "    StandardScaler(with_mean=False)  # Assuming sparse input, no need to center\n",
    ")\n",
    "\n",
    "# Preprocess the training and validation data\n",
    "X_train_preprocessed = preprocessing_pipeline.fit_transform(X_train)\n",
    "X_valid_preprocessed = preprocessing_pipeline.transform(X_valid)\n",
    "\n",
    "# Define the search space for hyperparameters\n",
    "search_space = np.array([(0.1, 10),   # C\n",
    "                         (0.01, 1)])  # gamma\n",
    "\n",
    "# Run TLBO to optimize hyperparameters\n",
    "best_params, best_fitness = tlbo(objective_function, search_space)\n",
    "\n",
    "# Print the best parameters found\n",
    "print(\"Best Parameters:\", best_params)\n",
    "print(\"Best Accuracy:\", -best_fitness)  # Convert back to positive accuracy\n",
    "\n",
    "# Train the final SVM model with the best parameters\n",
    "C, gamma = best_params\n",
    "final_model = SVC(C=C, gamma=gamma)\n",
    "final_model.fit(X_train_preprocessed, y_train)\n",
    "\n",
    "# Evaluate the final model on the test set\n",
    "X_test_preprocessed = preprocessing_pipeline.transform(X_test)\n",
    "y_pred_final = final_model.predict(X_test_preprocessed)\n",
    "final_accuracy = accuracy_score(y_test, y_pred_final)\n",
    "print(\"Final Accuracy:\", final_accuracy)\n"
   ]
  },
  {
   "cell_type": "code",
   "execution_count": 16,
   "metadata": {},
   "outputs": [],
   "source": [
    "# # Initialize SentimentIntensityAnalyzer\n",
    "# sid = SentimentIntensityAnalyzer()\n",
    "\n",
    "# # Function to calculate sentiment score for a text using SentimentIntensityAnalyzer\n",
    "# def calculate_sentiment(text):\n",
    "#     sentiment_score = sid.polarity_scores(text)['compound']\n",
    "#     return sentiment_score\n",
    "\n",
    "# # Apply sentiment lexicon to the dataset\n",
    "# df['sentiment_score'] = df['text'].apply(calculate_sentiment)\n",
    "\n",
    "# # Split the dataset into training and testing sets\n",
    "# X_train, X_test, y_train, y_test = train_test_split(df[['text', 'sentiment_score']], df['sentiment'], test_size=0.2, random_state=42)\n",
    "\n",
    "# vectorizer = TfidfVectorizer(max_features=1000)  # You can adjust max_features as needed\n",
    "# X_train_tfidf = vectorizer.fit_transform(X_train['text'])\n",
    "# X_test_tfidf = vectorizer.transform(X_test['text'])\n",
    "\n",
    "# # Combine TF-IDF features with sentiment scores\n",
    "# import scipy.sparse as sp\n",
    "# X_train_combined = sp.hstack((X_train_tfidf, X_train['sentiment_score'].values.reshape(-1, 1)))\n",
    "# X_test_combined = sp.hstack((X_test_tfidf, X_test['sentiment_score'].values.reshape(-1, 1)))\n",
    "\n",
    "# # Train and evaluate Decision Tree models\n",
    "# # J48 Decision Tree\n",
    "# j48_model = DecisionTreeClassifier()  # Default J48 implementation\n",
    "# j48_model.fit(X_train_combined, y_train)\n",
    "# j48_y_pred = j48_model.predict(X_test_combined)\n",
    "# j48_accuracy = accuracy_score(y_test, j48_y_pred)\n",
    "# print(f\"J48 Accuracy: {j48_accuracy:.2f}\")\n",
    "\n",
    "# # BFTree (Best-First Decision Tree)\n",
    "# bftree_model = DecisionTreeClassifier(splitter='best')  # Best-first decision tree\n",
    "# bftree_model.fit(X_train_combined, y_train)\n",
    "# bftree_y_pred = bftree_model.predict(X_test_combined)\n",
    "# bftree_accuracy = accuracy_score(y_test, bftree_y_pred)\n",
    "# print(f\"BFTree Accuracy: {bftree_accuracy:.2f}\")\n",
    "\n",
    "# # OneR Decision Tree\n",
    "# oner_model = DecisionTreeClassifier(max_depth=1)  # OneR decision tree (depth limited to 1)\n",
    "# oner_model.fit(X_train_combined, y_train)\n",
    "# oner_y_pred = oner_model.predict(X_test_combined)\n",
    "# oner_accuracy = accuracy_score(y_test, oner_y_pred)\n",
    "# print(f\"OneR Accuracy: {oner_accuracy:.2f}\")"
   ]
  },
  {
   "cell_type": "code",
   "execution_count": null,
   "metadata": {},
   "outputs": [],
   "source": []
  },
  {
   "cell_type": "code",
   "execution_count": null,
   "metadata": {},
   "outputs": [],
   "source": []
  },
  {
   "cell_type": "code",
   "execution_count": null,
   "metadata": {},
   "outputs": [],
   "source": []
  },
  {
   "cell_type": "code",
   "execution_count": null,
   "metadata": {},
   "outputs": [],
   "source": []
  },
  {
   "cell_type": "code",
   "execution_count": null,
   "metadata": {},
   "outputs": [],
   "source": []
  },
  {
   "cell_type": "code",
   "execution_count": null,
   "metadata": {},
   "outputs": [],
   "source": []
  },
  {
   "cell_type": "code",
   "execution_count": null,
   "metadata": {},
   "outputs": [],
   "source": []
  },
  {
   "cell_type": "code",
   "execution_count": null,
   "metadata": {},
   "outputs": [],
   "source": []
  },
  {
   "cell_type": "code",
   "execution_count": null,
   "metadata": {},
   "outputs": [],
   "source": []
  },
  {
   "cell_type": "code",
   "execution_count": null,
   "metadata": {},
   "outputs": [],
   "source": []
  },
  {
   "cell_type": "code",
   "execution_count": null,
   "metadata": {},
   "outputs": [],
   "source": [
    "\n",
    "\n",
    "\n"
   ]
  }
 ],
 "metadata": {
  "kernelspec": {
   "display_name": "Python 3 (ipykernel)",
   "language": "python",
   "name": "python3"
  },
  "language_info": {
   "codemirror_mode": {
    "name": "ipython",
    "version": 3
   },
   "file_extension": ".py",
   "mimetype": "text/x-python",
   "name": "python",
   "nbconvert_exporter": "python",
   "pygments_lexer": "ipython3",
   "version": "3.12.7"
  }
 },
 "nbformat": 4,
 "nbformat_minor": 4
}
